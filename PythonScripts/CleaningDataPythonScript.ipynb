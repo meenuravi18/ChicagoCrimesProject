{
 "cells": [
  {
   "cell_type": "code",
   "execution_count": 1,
   "metadata": {},
   "outputs": [],
   "source": [
    "# Data Engineering Final Project Python Script\n",
    "\n",
    "#import libraries used\n",
    "\n",
    "import pandas as pd\n",
    "#import os\n"
   ]
  },
  {
   "cell_type": "code",
   "execution_count": 7,
   "metadata": {},
   "outputs": [
    {
     "data": {
      "text/plain": [
       "'C:\\\\Users\\\\maryammoeed.MED-CB1M7F2\\\\Desktop'"
      ]
     },
     "execution_count": 7,
     "metadata": {},
     "output_type": "execute_result"
    }
   ],
   "source": [
    "#check for working directory\n",
    "os.getcwd()"
   ]
  },
  {
   "cell_type": "code",
   "execution_count": 2,
   "metadata": {},
   "outputs": [
    {
     "data": {
      "text/html": [
       "<div>\n",
       "<style scoped>\n",
       "    .dataframe tbody tr th:only-of-type {\n",
       "        vertical-align: middle;\n",
       "    }\n",
       "\n",
       "    .dataframe tbody tr th {\n",
       "        vertical-align: top;\n",
       "    }\n",
       "\n",
       "    .dataframe thead th {\n",
       "        text-align: right;\n",
       "    }\n",
       "</style>\n",
       "<table border=\"1\" class=\"dataframe\">\n",
       "  <thead>\n",
       "    <tr style=\"text-align: right;\">\n",
       "      <th></th>\n",
       "      <th>Primary Key</th>\n",
       "      <th>Case Number</th>\n",
       "      <th>Date</th>\n",
       "      <th>Block</th>\n",
       "      <th>IUCR</th>\n",
       "      <th>Crime_ID</th>\n",
       "      <th>Primary Type</th>\n",
       "      <th>Description</th>\n",
       "      <th>Location Description</th>\n",
       "      <th>Arrest</th>\n",
       "      <th>...</th>\n",
       "      <th>Ward</th>\n",
       "      <th>Community Area</th>\n",
       "      <th>FBI Code</th>\n",
       "      <th>X Coordinate</th>\n",
       "      <th>Y Coordinate</th>\n",
       "      <th>Year</th>\n",
       "      <th>Updated On</th>\n",
       "      <th>Latitude</th>\n",
       "      <th>Longitude</th>\n",
       "      <th>Location</th>\n",
       "    </tr>\n",
       "  </thead>\n",
       "  <tbody>\n",
       "    <tr>\n",
       "      <th>0</th>\n",
       "      <td>1</td>\n",
       "      <td>HZ250496</td>\n",
       "      <td>5/3/2016 23:40</td>\n",
       "      <td>013XX S SAWYER AVE</td>\n",
       "      <td>486</td>\n",
       "      <td>C3</td>\n",
       "      <td>BATTERY</td>\n",
       "      <td>DOMESTIC BATTERY SIMPLE</td>\n",
       "      <td>APARTMENT</td>\n",
       "      <td>True</td>\n",
       "      <td>...</td>\n",
       "      <td>24.0</td>\n",
       "      <td>29.0</td>\n",
       "      <td>08B</td>\n",
       "      <td>1154907.0</td>\n",
       "      <td>1893681.0</td>\n",
       "      <td>2016</td>\n",
       "      <td>5/10/2016 15:56</td>\n",
       "      <td>41.864073</td>\n",
       "      <td>-87.706819</td>\n",
       "      <td>(41.864073157, -87.706818608)</td>\n",
       "    </tr>\n",
       "    <tr>\n",
       "      <th>1</th>\n",
       "      <td>2</td>\n",
       "      <td>HZ250409</td>\n",
       "      <td>5/3/2016 21:40</td>\n",
       "      <td>061XX S DREXEL AVE</td>\n",
       "      <td>486</td>\n",
       "      <td>C3</td>\n",
       "      <td>BATTERY</td>\n",
       "      <td>DOMESTIC BATTERY SIMPLE</td>\n",
       "      <td>RESIDENCE</td>\n",
       "      <td>False</td>\n",
       "      <td>...</td>\n",
       "      <td>20.0</td>\n",
       "      <td>42.0</td>\n",
       "      <td>08B</td>\n",
       "      <td>1183066.0</td>\n",
       "      <td>1864330.0</td>\n",
       "      <td>2016</td>\n",
       "      <td>5/10/2016 15:56</td>\n",
       "      <td>41.782922</td>\n",
       "      <td>-87.604363</td>\n",
       "      <td>(41.782921527, -87.60436317)</td>\n",
       "    </tr>\n",
       "    <tr>\n",
       "      <th>2</th>\n",
       "      <td>3</td>\n",
       "      <td>HZ250503</td>\n",
       "      <td>5/3/2016 23:31</td>\n",
       "      <td>053XX W CHICAGO AVE</td>\n",
       "      <td>470</td>\n",
       "      <td>C26</td>\n",
       "      <td>PUBLIC PEACE VIOLATION</td>\n",
       "      <td>RECKLESS CONDUCT</td>\n",
       "      <td>STREET</td>\n",
       "      <td>False</td>\n",
       "      <td>...</td>\n",
       "      <td>37.0</td>\n",
       "      <td>25.0</td>\n",
       "      <td>24</td>\n",
       "      <td>1140789.0</td>\n",
       "      <td>1904819.0</td>\n",
       "      <td>2016</td>\n",
       "      <td>5/10/2016 15:56</td>\n",
       "      <td>41.894908</td>\n",
       "      <td>-87.758372</td>\n",
       "      <td>(41.894908283, -87.758371958)</td>\n",
       "    </tr>\n",
       "    <tr>\n",
       "      <th>3</th>\n",
       "      <td>4</td>\n",
       "      <td>HZ250424</td>\n",
       "      <td>5/3/2016 22:10</td>\n",
       "      <td>049XX W FULTON ST</td>\n",
       "      <td>460</td>\n",
       "      <td>C3</td>\n",
       "      <td>BATTERY</td>\n",
       "      <td>SIMPLE</td>\n",
       "      <td>SIDEWALK</td>\n",
       "      <td>False</td>\n",
       "      <td>...</td>\n",
       "      <td>28.0</td>\n",
       "      <td>25.0</td>\n",
       "      <td>08B</td>\n",
       "      <td>1143223.0</td>\n",
       "      <td>1901475.0</td>\n",
       "      <td>2016</td>\n",
       "      <td>5/10/2016 15:56</td>\n",
       "      <td>41.885687</td>\n",
       "      <td>-87.749516</td>\n",
       "      <td>(41.885686845, -87.749515983)</td>\n",
       "    </tr>\n",
       "    <tr>\n",
       "      <th>4</th>\n",
       "      <td>5</td>\n",
       "      <td>HZ250455</td>\n",
       "      <td>5/3/2016 22:00</td>\n",
       "      <td>003XX N LOTUS AVE</td>\n",
       "      <td>820</td>\n",
       "      <td>C30</td>\n",
       "      <td>THEFT</td>\n",
       "      <td>$500 AND UNDER</td>\n",
       "      <td>RESIDENCE</td>\n",
       "      <td>False</td>\n",
       "      <td>...</td>\n",
       "      <td>28.0</td>\n",
       "      <td>25.0</td>\n",
       "      <td>6</td>\n",
       "      <td>1139890.0</td>\n",
       "      <td>1901675.0</td>\n",
       "      <td>2016</td>\n",
       "      <td>5/10/2016 15:56</td>\n",
       "      <td>41.886297</td>\n",
       "      <td>-87.761751</td>\n",
       "      <td>(41.886297242, -87.761750709)</td>\n",
       "    </tr>\n",
       "    <tr>\n",
       "      <th>...</th>\n",
       "      <td>...</td>\n",
       "      <td>...</td>\n",
       "      <td>...</td>\n",
       "      <td>...</td>\n",
       "      <td>...</td>\n",
       "      <td>...</td>\n",
       "      <td>...</td>\n",
       "      <td>...</td>\n",
       "      <td>...</td>\n",
       "      <td>...</td>\n",
       "      <td>...</td>\n",
       "      <td>...</td>\n",
       "      <td>...</td>\n",
       "      <td>...</td>\n",
       "      <td>...</td>\n",
       "      <td>...</td>\n",
       "      <td>...</td>\n",
       "      <td>...</td>\n",
       "      <td>...</td>\n",
       "      <td>...</td>\n",
       "      <td>...</td>\n",
       "    </tr>\n",
       "    <tr>\n",
       "      <th>1048570</th>\n",
       "      <td>1048571</td>\n",
       "      <td>HY299674</td>\n",
       "      <td>6/13/2015 16:12</td>\n",
       "      <td>036XX W GRENSHAW ST</td>\n",
       "      <td>1310</td>\n",
       "      <td>C7</td>\n",
       "      <td>CRIMINAL DAMAGE</td>\n",
       "      <td>TO PROPERTY</td>\n",
       "      <td>APARTMENT</td>\n",
       "      <td>False</td>\n",
       "      <td>...</td>\n",
       "      <td>24.0</td>\n",
       "      <td>29.0</td>\n",
       "      <td>14</td>\n",
       "      <td>1152278.0</td>\n",
       "      <td>1894797.0</td>\n",
       "      <td>2015</td>\n",
       "      <td>8/17/2015 15:03</td>\n",
       "      <td>41.867188</td>\n",
       "      <td>-87.716440</td>\n",
       "      <td>(41.86718783, -87.71644019)</td>\n",
       "    </tr>\n",
       "    <tr>\n",
       "      <th>1048571</th>\n",
       "      <td>1048572</td>\n",
       "      <td>HY300084</td>\n",
       "      <td>6/13/2015 21:30</td>\n",
       "      <td>014XX S MUSEUM CAMPUS DR</td>\n",
       "      <td>870</td>\n",
       "      <td>C30</td>\n",
       "      <td>THEFT</td>\n",
       "      <td>POCKET-PICKING</td>\n",
       "      <td>STREET</td>\n",
       "      <td>False</td>\n",
       "      <td>...</td>\n",
       "      <td>2.0</td>\n",
       "      <td>33.0</td>\n",
       "      <td>6</td>\n",
       "      <td>1179970.0</td>\n",
       "      <td>1893558.0</td>\n",
       "      <td>2015</td>\n",
       "      <td>8/17/2015 15:03</td>\n",
       "      <td>41.863197</td>\n",
       "      <td>-87.614818</td>\n",
       "      <td>(41.863196881, -87.614817819)</td>\n",
       "    </tr>\n",
       "    <tr>\n",
       "      <th>1048572</th>\n",
       "      <td>1048573</td>\n",
       "      <td>HY300059</td>\n",
       "      <td>6/13/2015 21:40</td>\n",
       "      <td>023XX W LAWRENCE AVE</td>\n",
       "      <td>460</td>\n",
       "      <td>C3</td>\n",
       "      <td>BATTERY</td>\n",
       "      <td>SIMPLE</td>\n",
       "      <td>SIDEWALK</td>\n",
       "      <td>True</td>\n",
       "      <td>...</td>\n",
       "      <td>47.0</td>\n",
       "      <td>4.0</td>\n",
       "      <td>08B</td>\n",
       "      <td>1159650.0</td>\n",
       "      <td>1931817.0</td>\n",
       "      <td>2015</td>\n",
       "      <td>8/17/2015 15:03</td>\n",
       "      <td>41.968625</td>\n",
       "      <td>-87.688354</td>\n",
       "      <td>(41.96862488, -87.688354349)</td>\n",
       "    </tr>\n",
       "    <tr>\n",
       "      <th>1048573</th>\n",
       "      <td>1048574</td>\n",
       "      <td>HY299981</td>\n",
       "      <td>6/13/2015 20:40</td>\n",
       "      <td>051XX W THOMAS ST</td>\n",
       "      <td>313</td>\n",
       "      <td>C27</td>\n",
       "      <td>ROBBERY</td>\n",
       "      <td>ARMED: OTHER DANGEROUS WEAPON</td>\n",
       "      <td>SIDEWALK</td>\n",
       "      <td>False</td>\n",
       "      <td>...</td>\n",
       "      <td>37.0</td>\n",
       "      <td>25.0</td>\n",
       "      <td>3</td>\n",
       "      <td>1141687.0</td>\n",
       "      <td>1906835.0</td>\n",
       "      <td>2015</td>\n",
       "      <td>8/17/2015 15:03</td>\n",
       "      <td>41.900424</td>\n",
       "      <td>-87.755024</td>\n",
       "      <td>(41.900423863, -87.755023892)</td>\n",
       "    </tr>\n",
       "    <tr>\n",
       "      <th>1048574</th>\n",
       "      <td>1048575</td>\n",
       "      <td>HY300058</td>\n",
       "      <td>6/13/2015 22:00</td>\n",
       "      <td>004XX N CENTRAL PARK BLVD</td>\n",
       "      <td>460</td>\n",
       "      <td>C3</td>\n",
       "      <td>BATTERY</td>\n",
       "      <td>SIMPLE</td>\n",
       "      <td>BRIDGE</td>\n",
       "      <td>False</td>\n",
       "      <td>...</td>\n",
       "      <td>27.0</td>\n",
       "      <td>23.0</td>\n",
       "      <td>08B</td>\n",
       "      <td>1152273.0</td>\n",
       "      <td>1902600.0</td>\n",
       "      <td>2015</td>\n",
       "      <td>8/17/2015 15:03</td>\n",
       "      <td>41.888600</td>\n",
       "      <td>-87.716253</td>\n",
       "      <td>(41.888600199, -87.716252586)</td>\n",
       "    </tr>\n",
       "  </tbody>\n",
       "</table>\n",
       "<p>1048575 rows × 23 columns</p>\n",
       "</div>"
      ],
      "text/plain": [
       "         Primary Key Case Number             Date                      Block  \\\n",
       "0                  1    HZ250496   5/3/2016 23:40         013XX S SAWYER AVE   \n",
       "1                  2    HZ250409   5/3/2016 21:40         061XX S DREXEL AVE   \n",
       "2                  3    HZ250503   5/3/2016 23:31        053XX W CHICAGO AVE   \n",
       "3                  4    HZ250424   5/3/2016 22:10          049XX W FULTON ST   \n",
       "4                  5    HZ250455   5/3/2016 22:00          003XX N LOTUS AVE   \n",
       "...              ...         ...              ...                        ...   \n",
       "1048570      1048571    HY299674  6/13/2015 16:12        036XX W GRENSHAW ST   \n",
       "1048571      1048572    HY300084  6/13/2015 21:30   014XX S MUSEUM CAMPUS DR   \n",
       "1048572      1048573    HY300059  6/13/2015 21:40       023XX W LAWRENCE AVE   \n",
       "1048573      1048574    HY299981  6/13/2015 20:40          051XX W THOMAS ST   \n",
       "1048574      1048575    HY300058  6/13/2015 22:00  004XX N CENTRAL PARK BLVD   \n",
       "\n",
       "         IUCR Crime_ID            Primary Type                    Description  \\\n",
       "0         486       C3                 BATTERY        DOMESTIC BATTERY SIMPLE   \n",
       "1         486       C3                 BATTERY        DOMESTIC BATTERY SIMPLE   \n",
       "2         470      C26  PUBLIC PEACE VIOLATION               RECKLESS CONDUCT   \n",
       "3         460       C3                 BATTERY                         SIMPLE   \n",
       "4         820      C30                   THEFT                 $500 AND UNDER   \n",
       "...       ...      ...                     ...                            ...   \n",
       "1048570  1310       C7         CRIMINAL DAMAGE                    TO PROPERTY   \n",
       "1048571   870      C30                   THEFT                 POCKET-PICKING   \n",
       "1048572   460       C3                 BATTERY                         SIMPLE   \n",
       "1048573   313      C27                 ROBBERY  ARMED: OTHER DANGEROUS WEAPON   \n",
       "1048574   460       C3                 BATTERY                         SIMPLE   \n",
       "\n",
       "        Location Description  Arrest  ...  Ward  Community Area  FBI Code  \\\n",
       "0                  APARTMENT    True  ...  24.0            29.0       08B   \n",
       "1                  RESIDENCE   False  ...  20.0            42.0       08B   \n",
       "2                     STREET   False  ...  37.0            25.0        24   \n",
       "3                   SIDEWALK   False  ...  28.0            25.0       08B   \n",
       "4                  RESIDENCE   False  ...  28.0            25.0         6   \n",
       "...                      ...     ...  ...   ...             ...       ...   \n",
       "1048570            APARTMENT   False  ...  24.0            29.0        14   \n",
       "1048571               STREET   False  ...   2.0            33.0         6   \n",
       "1048572             SIDEWALK    True  ...  47.0             4.0       08B   \n",
       "1048573             SIDEWALK   False  ...  37.0            25.0         3   \n",
       "1048574               BRIDGE   False  ...  27.0            23.0       08B   \n",
       "\n",
       "         X Coordinate  Y Coordinate  Year       Updated On   Latitude  \\\n",
       "0           1154907.0     1893681.0  2016  5/10/2016 15:56  41.864073   \n",
       "1           1183066.0     1864330.0  2016  5/10/2016 15:56  41.782922   \n",
       "2           1140789.0     1904819.0  2016  5/10/2016 15:56  41.894908   \n",
       "3           1143223.0     1901475.0  2016  5/10/2016 15:56  41.885687   \n",
       "4           1139890.0     1901675.0  2016  5/10/2016 15:56  41.886297   \n",
       "...               ...           ...   ...              ...        ...   \n",
       "1048570     1152278.0     1894797.0  2015  8/17/2015 15:03  41.867188   \n",
       "1048571     1179970.0     1893558.0  2015  8/17/2015 15:03  41.863197   \n",
       "1048572     1159650.0     1931817.0  2015  8/17/2015 15:03  41.968625   \n",
       "1048573     1141687.0     1906835.0  2015  8/17/2015 15:03  41.900424   \n",
       "1048574     1152273.0     1902600.0  2015  8/17/2015 15:03  41.888600   \n",
       "\n",
       "         Longitude                       Location  \n",
       "0       -87.706819  (41.864073157, -87.706818608)  \n",
       "1       -87.604363   (41.782921527, -87.60436317)  \n",
       "2       -87.758372  (41.894908283, -87.758371958)  \n",
       "3       -87.749516  (41.885686845, -87.749515983)  \n",
       "4       -87.761751  (41.886297242, -87.761750709)  \n",
       "...            ...                            ...  \n",
       "1048570 -87.716440    (41.86718783, -87.71644019)  \n",
       "1048571 -87.614818  (41.863196881, -87.614817819)  \n",
       "1048572 -87.688354   (41.96862488, -87.688354349)  \n",
       "1048573 -87.755024  (41.900423863, -87.755023892)  \n",
       "1048574 -87.716253  (41.888600199, -87.716252586)  \n",
       "\n",
       "[1048575 rows x 23 columns]"
      ]
     },
     "execution_count": 2,
     "metadata": {},
     "output_type": "execute_result"
    }
   ],
   "source": [
    "#read csv file\n",
    "df=pd.read_csv('Updated_Crimes_113020_csv.csv')\n",
    "df"
   ]
  },
  {
   "cell_type": "code",
   "execution_count": 13,
   "metadata": {},
   "outputs": [
    {
     "data": {
      "text/plain": [
       "Index(['Primary Key', 'Case Number', 'Date', 'Block', 'IUCR', 'Crime_ID',\n",
       "       'Primary Type', 'Description', 'Location Description', 'Arrest',\n",
       "       'Domestic', 'Beat', 'District', 'Ward', 'Community Area', 'FBI Code',\n",
       "       'X Coordinate', 'Y Coordinate', 'Year', 'Updated On', 'Latitude',\n",
       "       'Longitude', 'Location'],\n",
       "      dtype='object')"
      ]
     },
     "execution_count": 13,
     "metadata": {},
     "output_type": "execute_result"
    }
   ],
   "source": [
    "df.columns"
   ]
  },
  {
   "cell_type": "code",
   "execution_count": 14,
   "metadata": {},
   "outputs": [
    {
     "data": {
      "text/plain": [
       "dtype('int64')"
      ]
     },
     "execution_count": 14,
     "metadata": {},
     "output_type": "execute_result"
    }
   ],
   "source": [
    "#check object types to make sure eer diagram matches\n",
    "df['Primary Key'].dtype"
   ]
  },
  {
   "cell_type": "code",
   "execution_count": 15,
   "metadata": {},
   "outputs": [
    {
     "data": {
      "text/plain": [
       "dtype('O')"
      ]
     },
     "execution_count": 15,
     "metadata": {},
     "output_type": "execute_result"
    }
   ],
   "source": [
    "df['Case Number'].dtype"
   ]
  },
  {
   "cell_type": "code",
   "execution_count": 16,
   "metadata": {},
   "outputs": [
    {
     "data": {
      "text/plain": [
       "dtype('O')"
      ]
     },
     "execution_count": 16,
     "metadata": {},
     "output_type": "execute_result"
    }
   ],
   "source": [
    "df['Date'].dtype"
   ]
  },
  {
   "cell_type": "code",
   "execution_count": 17,
   "metadata": {},
   "outputs": [
    {
     "data": {
      "text/plain": [
       "dtype('O')"
      ]
     },
     "execution_count": 17,
     "metadata": {},
     "output_type": "execute_result"
    }
   ],
   "source": [
    "df['Block'].dtype"
   ]
  },
  {
   "cell_type": "code",
   "execution_count": 18,
   "metadata": {},
   "outputs": [
    {
     "data": {
      "text/plain": [
       "dtype('O')"
      ]
     },
     "execution_count": 18,
     "metadata": {},
     "output_type": "execute_result"
    }
   ],
   "source": [
    "df['IUCR'].dtype\n",
    "#mix of integer and alphabet, use vlookup in excel to make it all integers"
   ]
  },
  {
   "cell_type": "code",
   "execution_count": 19,
   "metadata": {},
   "outputs": [
    {
     "data": {
      "text/plain": [
       "dtype('O')"
      ]
     },
     "execution_count": 19,
     "metadata": {},
     "output_type": "execute_result"
    }
   ],
   "source": [
    "df['Crime_ID'].dtype\n",
    "#mix of integers and alphabet; make only integers using excel"
   ]
  },
  {
   "cell_type": "code",
   "execution_count": 20,
   "metadata": {},
   "outputs": [
    {
     "data": {
      "text/plain": [
       "dtype('O')"
      ]
     },
     "execution_count": 20,
     "metadata": {},
     "output_type": "execute_result"
    }
   ],
   "source": [
    "df['Primary Type'].dtype\n",
    "#should be all string evaluate this further"
   ]
  },
  {
   "cell_type": "code",
   "execution_count": 21,
   "metadata": {},
   "outputs": [
    {
     "data": {
      "text/plain": [
       "dtype('O')"
      ]
     },
     "execution_count": 21,
     "metadata": {},
     "output_type": "execute_result"
    }
   ],
   "source": [
    "df['Description'].dtype\n",
    "#should be all string evaluate this further"
   ]
  },
  {
   "cell_type": "code",
   "execution_count": 22,
   "metadata": {},
   "outputs": [
    {
     "data": {
      "text/plain": [
       "dtype('O')"
      ]
     },
     "execution_count": 22,
     "metadata": {},
     "output_type": "execute_result"
    }
   ],
   "source": [
    "df['Location Description'].dtype\n",
    "#should be all string evaluate this further"
   ]
  },
  {
   "cell_type": "code",
   "execution_count": 23,
   "metadata": {},
   "outputs": [
    {
     "data": {
      "text/plain": [
       "dtype('bool')"
      ]
     },
     "execution_count": 23,
     "metadata": {},
     "output_type": "execute_result"
    }
   ],
   "source": [
    "df['Arrest'].dtype\n",
    "#makes sense to be boolean"
   ]
  },
  {
   "cell_type": "code",
   "execution_count": 25,
   "metadata": {},
   "outputs": [
    {
     "data": {
      "text/plain": [
       "dtype('bool')"
      ]
     },
     "execution_count": 25,
     "metadata": {},
     "output_type": "execute_result"
    }
   ],
   "source": [
    "df['Domestic'].dtype"
   ]
  },
  {
   "cell_type": "code",
   "execution_count": 26,
   "metadata": {},
   "outputs": [
    {
     "data": {
      "text/plain": [
       "dtype('int64')"
      ]
     },
     "execution_count": 26,
     "metadata": {},
     "output_type": "execute_result"
    }
   ],
   "source": [
    "df['Beat'].dtype\n",
    "#makes sense to be all integers; not in EER diagram will drop"
   ]
  },
  {
   "cell_type": "code",
   "execution_count": 27,
   "metadata": {},
   "outputs": [
    {
     "data": {
      "text/plain": [
       "dtype('float64')"
      ]
     },
     "execution_count": 27,
     "metadata": {},
     "output_type": "execute_result"
    }
   ],
   "source": [
    "df['District'].dtype\n",
    "#double check why it is float and not integer"
   ]
  },
  {
   "cell_type": "code",
   "execution_count": 28,
   "metadata": {},
   "outputs": [
    {
     "data": {
      "text/plain": [
       "dtype('float64')"
      ]
     },
     "execution_count": 28,
     "metadata": {},
     "output_type": "execute_result"
    }
   ],
   "source": [
    "df['Ward'].dtype\n",
    "#double check why it is float and not integer"
   ]
  },
  {
   "cell_type": "code",
   "execution_count": 29,
   "metadata": {},
   "outputs": [
    {
     "data": {
      "text/plain": [
       "dtype('float64')"
      ]
     },
     "execution_count": 29,
     "metadata": {},
     "output_type": "execute_result"
    }
   ],
   "source": [
    "df['Community Area'].dtype"
   ]
  },
  {
   "cell_type": "code",
   "execution_count": 30,
   "metadata": {},
   "outputs": [
    {
     "data": {
      "text/plain": [
       "dtype('O')"
      ]
     },
     "execution_count": 30,
     "metadata": {},
     "output_type": "execute_result"
    }
   ],
   "source": [
    "df['FBI Code'].dtype\n",
    "#should be all integers; use vlookup to fix the code in excel"
   ]
  },
  {
   "cell_type": "code",
   "execution_count": 31,
   "metadata": {},
   "outputs": [
    {
     "data": {
      "text/plain": [
       "dtype('float64')"
      ]
     },
     "execution_count": 31,
     "metadata": {},
     "output_type": "execute_result"
    }
   ],
   "source": [
    "df['X Coordinate'].dtype\n",
    "#makes sense; not in EER diagram so will be dropped"
   ]
  },
  {
   "cell_type": "code",
   "execution_count": 32,
   "metadata": {},
   "outputs": [
    {
     "data": {
      "text/plain": [
       "dtype('float64')"
      ]
     },
     "execution_count": 32,
     "metadata": {},
     "output_type": "execute_result"
    }
   ],
   "source": [
    "df['Y Coordinate'].dtype\n",
    "#not in EER diagram so will be dropped"
   ]
  },
  {
   "cell_type": "code",
   "execution_count": 33,
   "metadata": {},
   "outputs": [
    {
     "data": {
      "text/plain": [
       "dtype('int64')"
      ]
     },
     "execution_count": 33,
     "metadata": {},
     "output_type": "execute_result"
    }
   ],
   "source": [
    "df['Year'].dtype\n",
    "#makes sense; not in EER diagram but in date so will be dropped"
   ]
  },
  {
   "cell_type": "code",
   "execution_count": 35,
   "metadata": {},
   "outputs": [
    {
     "data": {
      "text/plain": [
       "dtype('O')"
      ]
     },
     "execution_count": 35,
     "metadata": {},
     "output_type": "execute_result"
    }
   ],
   "source": [
    "df['Updated On'].dtype\n",
    "#needs cleaning or can be removed will try drop column"
   ]
  },
  {
   "cell_type": "code",
   "execution_count": 36,
   "metadata": {},
   "outputs": [
    {
     "data": {
      "text/plain": [
       "dtype('float64')"
      ]
     },
     "execution_count": 36,
     "metadata": {},
     "output_type": "execute_result"
    }
   ],
   "source": [
    "df['Latitude'].dtype"
   ]
  },
  {
   "cell_type": "code",
   "execution_count": 37,
   "metadata": {},
   "outputs": [
    {
     "data": {
      "text/plain": [
       "dtype('float64')"
      ]
     },
     "execution_count": 37,
     "metadata": {},
     "output_type": "execute_result"
    }
   ],
   "source": [
    "df['Longitude'].dtype"
   ]
  },
  {
   "cell_type": "code",
   "execution_count": 38,
   "metadata": {},
   "outputs": [
    {
     "data": {
      "text/plain": [
       "dtype('O')"
      ]
     },
     "execution_count": 38,
     "metadata": {},
     "output_type": "execute_result"
    }
   ],
   "source": [
    "df['Location'].dtype\n",
    "#will drop column because its not in EER diagram"
   ]
  },
  {
   "cell_type": "code",
   "execution_count": 39,
   "metadata": {},
   "outputs": [],
   "source": [
    "#drop columns mentioned in the comments\n",
    "df.drop(['Location','Updated On','Year','Y Coordinate', 'X Coordinate', 'Beat'], axis=1, inplace=True)"
   ]
  },
  {
   "cell_type": "code",
   "execution_count": 40,
   "metadata": {},
   "outputs": [
    {
     "data": {
      "text/html": [
       "<div>\n",
       "<style scoped>\n",
       "    .dataframe tbody tr th:only-of-type {\n",
       "        vertical-align: middle;\n",
       "    }\n",
       "\n",
       "    .dataframe tbody tr th {\n",
       "        vertical-align: top;\n",
       "    }\n",
       "\n",
       "    .dataframe thead th {\n",
       "        text-align: right;\n",
       "    }\n",
       "</style>\n",
       "<table border=\"1\" class=\"dataframe\">\n",
       "  <thead>\n",
       "    <tr style=\"text-align: right;\">\n",
       "      <th></th>\n",
       "      <th>Primary Key</th>\n",
       "      <th>Case Number</th>\n",
       "      <th>Date</th>\n",
       "      <th>Block</th>\n",
       "      <th>IUCR</th>\n",
       "      <th>Crime_ID</th>\n",
       "      <th>Primary Type</th>\n",
       "      <th>Description</th>\n",
       "      <th>Location Description</th>\n",
       "      <th>Arrest</th>\n",
       "      <th>Domestic</th>\n",
       "      <th>District</th>\n",
       "      <th>Ward</th>\n",
       "      <th>Community Area</th>\n",
       "      <th>FBI Code</th>\n",
       "      <th>Latitude</th>\n",
       "      <th>Longitude</th>\n",
       "    </tr>\n",
       "  </thead>\n",
       "  <tbody>\n",
       "    <tr>\n",
       "      <th>0</th>\n",
       "      <td>1</td>\n",
       "      <td>HZ250496</td>\n",
       "      <td>5/3/2016 23:40</td>\n",
       "      <td>013XX S SAWYER AVE</td>\n",
       "      <td>486</td>\n",
       "      <td>3</td>\n",
       "      <td>BATTERY</td>\n",
       "      <td>DOMESTIC BATTERY SIMPLE</td>\n",
       "      <td>APARTMENT</td>\n",
       "      <td>True</td>\n",
       "      <td>True</td>\n",
       "      <td>10.0</td>\n",
       "      <td>24.0</td>\n",
       "      <td>29.0</td>\n",
       "      <td>08B</td>\n",
       "      <td>41.864073</td>\n",
       "      <td>-87.706819</td>\n",
       "    </tr>\n",
       "    <tr>\n",
       "      <th>1</th>\n",
       "      <td>2</td>\n",
       "      <td>HZ250409</td>\n",
       "      <td>5/3/2016 21:40</td>\n",
       "      <td>061XX S DREXEL AVE</td>\n",
       "      <td>486</td>\n",
       "      <td>3</td>\n",
       "      <td>BATTERY</td>\n",
       "      <td>DOMESTIC BATTERY SIMPLE</td>\n",
       "      <td>RESIDENCE</td>\n",
       "      <td>False</td>\n",
       "      <td>True</td>\n",
       "      <td>3.0</td>\n",
       "      <td>20.0</td>\n",
       "      <td>42.0</td>\n",
       "      <td>08B</td>\n",
       "      <td>41.782922</td>\n",
       "      <td>-87.604363</td>\n",
       "    </tr>\n",
       "    <tr>\n",
       "      <th>2</th>\n",
       "      <td>3</td>\n",
       "      <td>HZ250503</td>\n",
       "      <td>5/3/2016 23:31</td>\n",
       "      <td>053XX W CHICAGO AVE</td>\n",
       "      <td>470</td>\n",
       "      <td>26</td>\n",
       "      <td>PUBLIC PEACE VIOLATION</td>\n",
       "      <td>RECKLESS CONDUCT</td>\n",
       "      <td>STREET</td>\n",
       "      <td>False</td>\n",
       "      <td>False</td>\n",
       "      <td>15.0</td>\n",
       "      <td>37.0</td>\n",
       "      <td>25.0</td>\n",
       "      <td>24</td>\n",
       "      <td>41.894908</td>\n",
       "      <td>-87.758372</td>\n",
       "    </tr>\n",
       "    <tr>\n",
       "      <th>3</th>\n",
       "      <td>4</td>\n",
       "      <td>HZ250424</td>\n",
       "      <td>5/3/2016 22:10</td>\n",
       "      <td>049XX W FULTON ST</td>\n",
       "      <td>460</td>\n",
       "      <td>3</td>\n",
       "      <td>BATTERY</td>\n",
       "      <td>SIMPLE</td>\n",
       "      <td>SIDEWALK</td>\n",
       "      <td>False</td>\n",
       "      <td>False</td>\n",
       "      <td>15.0</td>\n",
       "      <td>28.0</td>\n",
       "      <td>25.0</td>\n",
       "      <td>08B</td>\n",
       "      <td>41.885687</td>\n",
       "      <td>-87.749516</td>\n",
       "    </tr>\n",
       "    <tr>\n",
       "      <th>4</th>\n",
       "      <td>5</td>\n",
       "      <td>HZ250455</td>\n",
       "      <td>5/3/2016 22:00</td>\n",
       "      <td>003XX N LOTUS AVE</td>\n",
       "      <td>820</td>\n",
       "      <td>30</td>\n",
       "      <td>THEFT</td>\n",
       "      <td>$500 AND UNDER</td>\n",
       "      <td>RESIDENCE</td>\n",
       "      <td>False</td>\n",
       "      <td>True</td>\n",
       "      <td>15.0</td>\n",
       "      <td>28.0</td>\n",
       "      <td>25.0</td>\n",
       "      <td>6</td>\n",
       "      <td>41.886297</td>\n",
       "      <td>-87.761751</td>\n",
       "    </tr>\n",
       "    <tr>\n",
       "      <th>...</th>\n",
       "      <td>...</td>\n",
       "      <td>...</td>\n",
       "      <td>...</td>\n",
       "      <td>...</td>\n",
       "      <td>...</td>\n",
       "      <td>...</td>\n",
       "      <td>...</td>\n",
       "      <td>...</td>\n",
       "      <td>...</td>\n",
       "      <td>...</td>\n",
       "      <td>...</td>\n",
       "      <td>...</td>\n",
       "      <td>...</td>\n",
       "      <td>...</td>\n",
       "      <td>...</td>\n",
       "      <td>...</td>\n",
       "      <td>...</td>\n",
       "    </tr>\n",
       "    <tr>\n",
       "      <th>1048570</th>\n",
       "      <td>1048571</td>\n",
       "      <td>HY299674</td>\n",
       "      <td>6/13/2015 16:12</td>\n",
       "      <td>036XX W GRENSHAW ST</td>\n",
       "      <td>1310</td>\n",
       "      <td>7</td>\n",
       "      <td>CRIMINAL DAMAGE</td>\n",
       "      <td>TO PROPERTY</td>\n",
       "      <td>APARTMENT</td>\n",
       "      <td>False</td>\n",
       "      <td>True</td>\n",
       "      <td>11.0</td>\n",
       "      <td>24.0</td>\n",
       "      <td>29.0</td>\n",
       "      <td>14</td>\n",
       "      <td>41.867188</td>\n",
       "      <td>-87.716440</td>\n",
       "    </tr>\n",
       "    <tr>\n",
       "      <th>1048571</th>\n",
       "      <td>1048572</td>\n",
       "      <td>HY300084</td>\n",
       "      <td>6/13/2015 21:30</td>\n",
       "      <td>014XX S MUSEUM CAMPUS DR</td>\n",
       "      <td>870</td>\n",
       "      <td>30</td>\n",
       "      <td>THEFT</td>\n",
       "      <td>POCKET-PICKING</td>\n",
       "      <td>STREET</td>\n",
       "      <td>False</td>\n",
       "      <td>False</td>\n",
       "      <td>1.0</td>\n",
       "      <td>2.0</td>\n",
       "      <td>33.0</td>\n",
       "      <td>6</td>\n",
       "      <td>41.863197</td>\n",
       "      <td>-87.614818</td>\n",
       "    </tr>\n",
       "    <tr>\n",
       "      <th>1048572</th>\n",
       "      <td>1048573</td>\n",
       "      <td>HY300059</td>\n",
       "      <td>6/13/2015 21:40</td>\n",
       "      <td>023XX W LAWRENCE AVE</td>\n",
       "      <td>460</td>\n",
       "      <td>3</td>\n",
       "      <td>BATTERY</td>\n",
       "      <td>SIMPLE</td>\n",
       "      <td>SIDEWALK</td>\n",
       "      <td>True</td>\n",
       "      <td>False</td>\n",
       "      <td>20.0</td>\n",
       "      <td>47.0</td>\n",
       "      <td>4.0</td>\n",
       "      <td>08B</td>\n",
       "      <td>41.968625</td>\n",
       "      <td>-87.688354</td>\n",
       "    </tr>\n",
       "    <tr>\n",
       "      <th>1048573</th>\n",
       "      <td>1048574</td>\n",
       "      <td>HY299981</td>\n",
       "      <td>6/13/2015 20:40</td>\n",
       "      <td>051XX W THOMAS ST</td>\n",
       "      <td>313</td>\n",
       "      <td>27</td>\n",
       "      <td>ROBBERY</td>\n",
       "      <td>ARMED: OTHER DANGEROUS WEAPON</td>\n",
       "      <td>SIDEWALK</td>\n",
       "      <td>False</td>\n",
       "      <td>False</td>\n",
       "      <td>15.0</td>\n",
       "      <td>37.0</td>\n",
       "      <td>25.0</td>\n",
       "      <td>3</td>\n",
       "      <td>41.900424</td>\n",
       "      <td>-87.755024</td>\n",
       "    </tr>\n",
       "    <tr>\n",
       "      <th>1048574</th>\n",
       "      <td>1048575</td>\n",
       "      <td>HY300058</td>\n",
       "      <td>6/13/2015 22:00</td>\n",
       "      <td>004XX N CENTRAL PARK BLVD</td>\n",
       "      <td>460</td>\n",
       "      <td>3</td>\n",
       "      <td>BATTERY</td>\n",
       "      <td>SIMPLE</td>\n",
       "      <td>BRIDGE</td>\n",
       "      <td>False</td>\n",
       "      <td>False</td>\n",
       "      <td>11.0</td>\n",
       "      <td>27.0</td>\n",
       "      <td>23.0</td>\n",
       "      <td>08B</td>\n",
       "      <td>41.888600</td>\n",
       "      <td>-87.716253</td>\n",
       "    </tr>\n",
       "  </tbody>\n",
       "</table>\n",
       "<p>1048575 rows × 17 columns</p>\n",
       "</div>"
      ],
      "text/plain": [
       "         Primary Key Case Number             Date                      Block  \\\n",
       "0                  1    HZ250496   5/3/2016 23:40         013XX S SAWYER AVE   \n",
       "1                  2    HZ250409   5/3/2016 21:40         061XX S DREXEL AVE   \n",
       "2                  3    HZ250503   5/3/2016 23:31        053XX W CHICAGO AVE   \n",
       "3                  4    HZ250424   5/3/2016 22:10          049XX W FULTON ST   \n",
       "4                  5    HZ250455   5/3/2016 22:00          003XX N LOTUS AVE   \n",
       "...              ...         ...              ...                        ...   \n",
       "1048570      1048571    HY299674  6/13/2015 16:12        036XX W GRENSHAW ST   \n",
       "1048571      1048572    HY300084  6/13/2015 21:30   014XX S MUSEUM CAMPUS DR   \n",
       "1048572      1048573    HY300059  6/13/2015 21:40       023XX W LAWRENCE AVE   \n",
       "1048573      1048574    HY299981  6/13/2015 20:40          051XX W THOMAS ST   \n",
       "1048574      1048575    HY300058  6/13/2015 22:00  004XX N CENTRAL PARK BLVD   \n",
       "\n",
       "         IUCR Crime_ID            Primary Type                    Description  \\\n",
       "0         486        3                 BATTERY        DOMESTIC BATTERY SIMPLE   \n",
       "1         486        3                 BATTERY        DOMESTIC BATTERY SIMPLE   \n",
       "2         470       26  PUBLIC PEACE VIOLATION               RECKLESS CONDUCT   \n",
       "3         460        3                 BATTERY                         SIMPLE   \n",
       "4         820       30                   THEFT                 $500 AND UNDER   \n",
       "...       ...      ...                     ...                            ...   \n",
       "1048570  1310        7         CRIMINAL DAMAGE                    TO PROPERTY   \n",
       "1048571   870       30                   THEFT                 POCKET-PICKING   \n",
       "1048572   460        3                 BATTERY                         SIMPLE   \n",
       "1048573   313       27                 ROBBERY  ARMED: OTHER DANGEROUS WEAPON   \n",
       "1048574   460        3                 BATTERY                         SIMPLE   \n",
       "\n",
       "        Location Description  Arrest  Domestic  District  Ward  \\\n",
       "0                  APARTMENT    True      True      10.0  24.0   \n",
       "1                  RESIDENCE   False      True       3.0  20.0   \n",
       "2                     STREET   False     False      15.0  37.0   \n",
       "3                   SIDEWALK   False     False      15.0  28.0   \n",
       "4                  RESIDENCE   False      True      15.0  28.0   \n",
       "...                      ...     ...       ...       ...   ...   \n",
       "1048570            APARTMENT   False      True      11.0  24.0   \n",
       "1048571               STREET   False     False       1.0   2.0   \n",
       "1048572             SIDEWALK    True     False      20.0  47.0   \n",
       "1048573             SIDEWALK   False     False      15.0  37.0   \n",
       "1048574               BRIDGE   False     False      11.0  27.0   \n",
       "\n",
       "         Community Area FBI Code   Latitude  Longitude  \n",
       "0                  29.0      08B  41.864073 -87.706819  \n",
       "1                  42.0      08B  41.782922 -87.604363  \n",
       "2                  25.0       24  41.894908 -87.758372  \n",
       "3                  25.0      08B  41.885687 -87.749516  \n",
       "4                  25.0        6  41.886297 -87.761751  \n",
       "...                 ...      ...        ...        ...  \n",
       "1048570            29.0       14  41.867188 -87.716440  \n",
       "1048571            33.0        6  41.863197 -87.614818  \n",
       "1048572             4.0      08B  41.968625 -87.688354  \n",
       "1048573            25.0        3  41.900424 -87.755024  \n",
       "1048574            23.0      08B  41.888600 -87.716253  \n",
       "\n",
       "[1048575 rows x 17 columns]"
      ]
     },
     "execution_count": 40,
     "metadata": {},
     "output_type": "execute_result"
    }
   ],
   "source": [
    "#new df\n",
    "df"
   ]
  },
  {
   "cell_type": "code",
   "execution_count": 41,
   "metadata": {},
   "outputs": [
    {
     "data": {
      "text/plain": [
       "True"
      ]
     },
     "execution_count": 41,
     "metadata": {},
     "output_type": "execute_result"
    }
   ],
   "source": [
    "#check for null values\n",
    "df.isnull().values.any()"
   ]
  },
  {
   "cell_type": "code",
   "execution_count": 42,
   "metadata": {},
   "outputs": [
    {
     "data": {
      "text/plain": [
       "Primary Key                0\n",
       "Case Number                0\n",
       "Date                       0\n",
       "Block                      0\n",
       "IUCR                       0\n",
       "Crime_ID                   0\n",
       "Primary Type               0\n",
       "Description                0\n",
       "Location Description     648\n",
       "Arrest                     0\n",
       "Domestic                   0\n",
       "District                   1\n",
       "Ward                      13\n",
       "Community Area            40\n",
       "FBI Code                   0\n",
       "Latitude                8705\n",
       "Longitude               8705\n",
       "dtype: int64"
      ]
     },
     "execution_count": 42,
     "metadata": {},
     "output_type": "execute_result"
    }
   ],
   "source": [
    "df.isnull().sum()"
   ]
  },
  {
   "cell_type": "code",
   "execution_count": 43,
   "metadata": {},
   "outputs": [],
   "source": [
    "#change null values to unknown and zero\n",
    "df['Location Description'].fillna('Unknown', inplace=True)"
   ]
  },
  {
   "cell_type": "code",
   "execution_count": 44,
   "metadata": {},
   "outputs": [
    {
     "data": {
      "text/plain": [
       "Primary Key                0\n",
       "Case Number                0\n",
       "Date                       0\n",
       "Block                      0\n",
       "IUCR                       0\n",
       "Crime_ID                   0\n",
       "Primary Type               0\n",
       "Description                0\n",
       "Location Description       0\n",
       "Arrest                     0\n",
       "Domestic                   0\n",
       "District                   1\n",
       "Ward                      13\n",
       "Community Area            40\n",
       "FBI Code                   0\n",
       "Latitude                8705\n",
       "Longitude               8705\n",
       "dtype: int64"
      ]
     },
     "execution_count": 44,
     "metadata": {},
     "output_type": "execute_result"
    }
   ],
   "source": [
    "\n",
    "df.isnull().sum()"
   ]
  },
  {
   "cell_type": "code",
   "execution_count": 45,
   "metadata": {},
   "outputs": [
    {
     "data": {
      "text/plain": [
       "1.0"
      ]
     },
     "execution_count": 45,
     "metadata": {},
     "output_type": "execute_result"
    }
   ],
   "source": [
    "df['District'].min()\n",
    "#check if min is 0"
   ]
  },
  {
   "cell_type": "code",
   "execution_count": 46,
   "metadata": {},
   "outputs": [],
   "source": [
    "#change null values to zero\n",
    "df['District'].fillna(0, inplace=True)"
   ]
  },
  {
   "cell_type": "code",
   "execution_count": 47,
   "metadata": {},
   "outputs": [
    {
     "data": {
      "text/plain": [
       "Primary Key                0\n",
       "Case Number                0\n",
       "Date                       0\n",
       "Block                      0\n",
       "IUCR                       0\n",
       "Crime_ID                   0\n",
       "Primary Type               0\n",
       "Description                0\n",
       "Location Description       0\n",
       "Arrest                     0\n",
       "Domestic                   0\n",
       "District                   0\n",
       "Ward                      13\n",
       "Community Area            40\n",
       "FBI Code                   0\n",
       "Latitude                8705\n",
       "Longitude               8705\n",
       "dtype: int64"
      ]
     },
     "execution_count": 47,
     "metadata": {},
     "output_type": "execute_result"
    }
   ],
   "source": [
    "df.isnull().sum()"
   ]
  },
  {
   "cell_type": "code",
   "execution_count": 48,
   "metadata": {},
   "outputs": [
    {
     "data": {
      "text/plain": [
       "1.0"
      ]
     },
     "execution_count": 48,
     "metadata": {},
     "output_type": "execute_result"
    }
   ],
   "source": [
    "df['Ward'].min()\n",
    "#check if min is 0"
   ]
  },
  {
   "cell_type": "code",
   "execution_count": 49,
   "metadata": {},
   "outputs": [
    {
     "data": {
      "text/plain": [
       "0.0"
      ]
     },
     "execution_count": 49,
     "metadata": {},
     "output_type": "execute_result"
    }
   ],
   "source": [
    "df['Community Area'].min()\n",
    "#check if min is 0"
   ]
  },
  {
   "cell_type": "code",
   "execution_count": 50,
   "metadata": {},
   "outputs": [
    {
     "data": {
      "text/plain": [
       "77.0"
      ]
     },
     "execution_count": 50,
     "metadata": {},
     "output_type": "execute_result"
    }
   ],
   "source": [
    "df['Community Area'].max()\n",
    "#check the max value so we can find a value that is not in the range of 0-max\n",
    "#use 1000 instead of 0 to replace null values"
   ]
  },
  {
   "cell_type": "code",
   "execution_count": 51,
   "metadata": {},
   "outputs": [
    {
     "data": {
      "text/plain": [
       "0          29.0\n",
       "1          42.0\n",
       "2          25.0\n",
       "3          25.0\n",
       "4          25.0\n",
       "           ... \n",
       "1048570    29.0\n",
       "1048571    33.0\n",
       "1048572     4.0\n",
       "1048573    25.0\n",
       "1048574    23.0\n",
       "Name: Community Area, Length: 1048575, dtype: float64"
      ]
     },
     "execution_count": 51,
     "metadata": {},
     "output_type": "execute_result"
    }
   ],
   "source": [
    "df['Community Area']"
   ]
  },
  {
   "cell_type": "code",
   "execution_count": 52,
   "metadata": {},
   "outputs": [
    {
     "data": {
      "text/plain": [
       "36.6194464"
      ]
     },
     "execution_count": 52,
     "metadata": {},
     "output_type": "execute_result"
    }
   ],
   "source": [
    "df['Latitude'].min()\n",
    "#check if min is 0"
   ]
  },
  {
   "cell_type": "code",
   "execution_count": 53,
   "metadata": {},
   "outputs": [
    {
     "data": {
      "text/plain": [
       "-91.68656568"
      ]
     },
     "execution_count": 53,
     "metadata": {},
     "output_type": "execute_result"
    }
   ],
   "source": [
    "df['Longitude'].min()\n",
    "#check if min is 0"
   ]
  },
  {
   "cell_type": "code",
   "execution_count": 54,
   "metadata": {},
   "outputs": [],
   "source": [
    "#change null values to zero\n",
    "df['Ward'].fillna(0, inplace=True)"
   ]
  },
  {
   "cell_type": "code",
   "execution_count": 55,
   "metadata": {},
   "outputs": [
    {
     "data": {
      "text/plain": [
       "Primary Key                0\n",
       "Case Number                0\n",
       "Date                       0\n",
       "Block                      0\n",
       "IUCR                       0\n",
       "Crime_ID                   0\n",
       "Primary Type               0\n",
       "Description                0\n",
       "Location Description       0\n",
       "Arrest                     0\n",
       "Domestic                   0\n",
       "District                   0\n",
       "Ward                       0\n",
       "Community Area            40\n",
       "FBI Code                   0\n",
       "Latitude                8705\n",
       "Longitude               8705\n",
       "dtype: int64"
      ]
     },
     "execution_count": 55,
     "metadata": {},
     "output_type": "execute_result"
    }
   ],
   "source": [
    "df.isnull().sum()"
   ]
  },
  {
   "cell_type": "code",
   "execution_count": 56,
   "metadata": {},
   "outputs": [],
   "source": [
    "#change null values to 1000\n",
    "df['Community Area'].fillna(1000, inplace=True)"
   ]
  },
  {
   "cell_type": "code",
   "execution_count": 57,
   "metadata": {},
   "outputs": [
    {
     "data": {
      "text/plain": [
       "Primary Key                0\n",
       "Case Number                0\n",
       "Date                       0\n",
       "Block                      0\n",
       "IUCR                       0\n",
       "Crime_ID                   0\n",
       "Primary Type               0\n",
       "Description                0\n",
       "Location Description       0\n",
       "Arrest                     0\n",
       "Domestic                   0\n",
       "District                   0\n",
       "Ward                       0\n",
       "Community Area             0\n",
       "FBI Code                   0\n",
       "Latitude                8705\n",
       "Longitude               8705\n",
       "dtype: int64"
      ]
     },
     "execution_count": 57,
     "metadata": {},
     "output_type": "execute_result"
    }
   ],
   "source": [
    "df.isnull().sum()"
   ]
  },
  {
   "cell_type": "code",
   "execution_count": 69,
   "metadata": {},
   "outputs": [],
   "source": [
    "#change null values to zero\n",
    "df['Latitude'].fillna(0, inplace=True)"
   ]
  },
  {
   "cell_type": "code",
   "execution_count": 58,
   "metadata": {},
   "outputs": [
    {
     "data": {
      "text/plain": [
       "Primary Key                0\n",
       "Case Number                0\n",
       "Date                       0\n",
       "Block                      0\n",
       "IUCR                       0\n",
       "Crime_ID                   0\n",
       "Primary Type               0\n",
       "Description                0\n",
       "Location Description       0\n",
       "Arrest                     0\n",
       "Domestic                   0\n",
       "District                   0\n",
       "Ward                       0\n",
       "Community Area             0\n",
       "FBI Code                   0\n",
       "Latitude                8705\n",
       "Longitude               8705\n",
       "dtype: int64"
      ]
     },
     "execution_count": 58,
     "metadata": {},
     "output_type": "execute_result"
    }
   ],
   "source": [
    "df.isnull().sum()"
   ]
  },
  {
   "cell_type": "code",
   "execution_count": 59,
   "metadata": {},
   "outputs": [],
   "source": [
    "#change null values to zero\n",
    "df['Longitude'].fillna(0, inplace=True)"
   ]
  },
  {
   "cell_type": "code",
   "execution_count": 60,
   "metadata": {},
   "outputs": [
    {
     "data": {
      "text/plain": [
       "Primary Key                0\n",
       "Case Number                0\n",
       "Date                       0\n",
       "Block                      0\n",
       "IUCR                       0\n",
       "Crime_ID                   0\n",
       "Primary Type               0\n",
       "Description                0\n",
       "Location Description       0\n",
       "Arrest                     0\n",
       "Domestic                   0\n",
       "District                   0\n",
       "Ward                       0\n",
       "Community Area             0\n",
       "FBI Code                   0\n",
       "Latitude                8705\n",
       "Longitude                  0\n",
       "dtype: int64"
      ]
     },
     "execution_count": 60,
     "metadata": {},
     "output_type": "execute_result"
    }
   ],
   "source": [
    "df.isnull().sum()\n",
    "#data has no null values and is replaced with 0, 1000, or unknown"
   ]
  },
  {
   "cell_type": "code",
   "execution_count": 61,
   "metadata": {},
   "outputs": [
    {
     "data": {
      "text/plain": [
       "0          False\n",
       "1          False\n",
       "2          False\n",
       "3          False\n",
       "4          False\n",
       "           ...  \n",
       "1048570    False\n",
       "1048571    False\n",
       "1048572    False\n",
       "1048573    False\n",
       "1048574    False\n",
       "Length: 1048575, dtype: bool"
      ]
     },
     "execution_count": 61,
     "metadata": {},
     "output_type": "execute_result"
    }
   ],
   "source": [
    "#check for redundant data\n",
    "df.duplicated()"
   ]
  },
  {
   "cell_type": "code",
   "execution_count": 62,
   "metadata": {},
   "outputs": [
    {
     "data": {
      "text/html": [
       "<div>\n",
       "<style scoped>\n",
       "    .dataframe tbody tr th:only-of-type {\n",
       "        vertical-align: middle;\n",
       "    }\n",
       "\n",
       "    .dataframe tbody tr th {\n",
       "        vertical-align: top;\n",
       "    }\n",
       "\n",
       "    .dataframe thead th {\n",
       "        text-align: right;\n",
       "    }\n",
       "</style>\n",
       "<table border=\"1\" class=\"dataframe\">\n",
       "  <thead>\n",
       "    <tr style=\"text-align: right;\">\n",
       "      <th></th>\n",
       "      <th>Primary Key</th>\n",
       "      <th>Case Number</th>\n",
       "      <th>Date</th>\n",
       "      <th>Block</th>\n",
       "      <th>IUCR</th>\n",
       "      <th>Crime_ID</th>\n",
       "      <th>Primary Type</th>\n",
       "      <th>Description</th>\n",
       "      <th>Location Description</th>\n",
       "      <th>Arrest</th>\n",
       "      <th>Domestic</th>\n",
       "      <th>District</th>\n",
       "      <th>Ward</th>\n",
       "      <th>Community Area</th>\n",
       "      <th>FBI Code</th>\n",
       "      <th>Latitude</th>\n",
       "      <th>Longitude</th>\n",
       "    </tr>\n",
       "  </thead>\n",
       "  <tbody>\n",
       "    <tr>\n",
       "      <th>0</th>\n",
       "      <td>1</td>\n",
       "      <td>HZ250496</td>\n",
       "      <td>5/3/2016 23:40</td>\n",
       "      <td>013XX S SAWYER AVE</td>\n",
       "      <td>486</td>\n",
       "      <td>3</td>\n",
       "      <td>BATTERY</td>\n",
       "      <td>DOMESTIC BATTERY SIMPLE</td>\n",
       "      <td>APARTMENT</td>\n",
       "      <td>True</td>\n",
       "      <td>True</td>\n",
       "      <td>10.0</td>\n",
       "      <td>24.0</td>\n",
       "      <td>29.0</td>\n",
       "      <td>08B</td>\n",
       "      <td>41.864073</td>\n",
       "      <td>-87.706819</td>\n",
       "    </tr>\n",
       "    <tr>\n",
       "      <th>1</th>\n",
       "      <td>2</td>\n",
       "      <td>HZ250409</td>\n",
       "      <td>5/3/2016 21:40</td>\n",
       "      <td>061XX S DREXEL AVE</td>\n",
       "      <td>486</td>\n",
       "      <td>3</td>\n",
       "      <td>BATTERY</td>\n",
       "      <td>DOMESTIC BATTERY SIMPLE</td>\n",
       "      <td>RESIDENCE</td>\n",
       "      <td>False</td>\n",
       "      <td>True</td>\n",
       "      <td>3.0</td>\n",
       "      <td>20.0</td>\n",
       "      <td>42.0</td>\n",
       "      <td>08B</td>\n",
       "      <td>41.782922</td>\n",
       "      <td>-87.604363</td>\n",
       "    </tr>\n",
       "    <tr>\n",
       "      <th>2</th>\n",
       "      <td>3</td>\n",
       "      <td>HZ250503</td>\n",
       "      <td>5/3/2016 23:31</td>\n",
       "      <td>053XX W CHICAGO AVE</td>\n",
       "      <td>470</td>\n",
       "      <td>26</td>\n",
       "      <td>PUBLIC PEACE VIOLATION</td>\n",
       "      <td>RECKLESS CONDUCT</td>\n",
       "      <td>STREET</td>\n",
       "      <td>False</td>\n",
       "      <td>False</td>\n",
       "      <td>15.0</td>\n",
       "      <td>37.0</td>\n",
       "      <td>25.0</td>\n",
       "      <td>24</td>\n",
       "      <td>41.894908</td>\n",
       "      <td>-87.758372</td>\n",
       "    </tr>\n",
       "    <tr>\n",
       "      <th>3</th>\n",
       "      <td>4</td>\n",
       "      <td>HZ250424</td>\n",
       "      <td>5/3/2016 22:10</td>\n",
       "      <td>049XX W FULTON ST</td>\n",
       "      <td>460</td>\n",
       "      <td>3</td>\n",
       "      <td>BATTERY</td>\n",
       "      <td>SIMPLE</td>\n",
       "      <td>SIDEWALK</td>\n",
       "      <td>False</td>\n",
       "      <td>False</td>\n",
       "      <td>15.0</td>\n",
       "      <td>28.0</td>\n",
       "      <td>25.0</td>\n",
       "      <td>08B</td>\n",
       "      <td>41.885687</td>\n",
       "      <td>-87.749516</td>\n",
       "    </tr>\n",
       "    <tr>\n",
       "      <th>4</th>\n",
       "      <td>5</td>\n",
       "      <td>HZ250455</td>\n",
       "      <td>5/3/2016 22:00</td>\n",
       "      <td>003XX N LOTUS AVE</td>\n",
       "      <td>820</td>\n",
       "      <td>30</td>\n",
       "      <td>THEFT</td>\n",
       "      <td>$500 AND UNDER</td>\n",
       "      <td>RESIDENCE</td>\n",
       "      <td>False</td>\n",
       "      <td>True</td>\n",
       "      <td>15.0</td>\n",
       "      <td>28.0</td>\n",
       "      <td>25.0</td>\n",
       "      <td>6</td>\n",
       "      <td>41.886297</td>\n",
       "      <td>-87.761751</td>\n",
       "    </tr>\n",
       "  </tbody>\n",
       "</table>\n",
       "</div>"
      ],
      "text/plain": [
       "   Primary Key Case Number            Date                Block IUCR Crime_ID  \\\n",
       "0            1    HZ250496  5/3/2016 23:40   013XX S SAWYER AVE  486        3   \n",
       "1            2    HZ250409  5/3/2016 21:40   061XX S DREXEL AVE  486        3   \n",
       "2            3    HZ250503  5/3/2016 23:31  053XX W CHICAGO AVE  470       26   \n",
       "3            4    HZ250424  5/3/2016 22:10    049XX W FULTON ST  460        3   \n",
       "4            5    HZ250455  5/3/2016 22:00    003XX N LOTUS AVE  820       30   \n",
       "\n",
       "             Primary Type              Description Location Description  \\\n",
       "0                 BATTERY  DOMESTIC BATTERY SIMPLE            APARTMENT   \n",
       "1                 BATTERY  DOMESTIC BATTERY SIMPLE            RESIDENCE   \n",
       "2  PUBLIC PEACE VIOLATION         RECKLESS CONDUCT               STREET   \n",
       "3                 BATTERY                   SIMPLE             SIDEWALK   \n",
       "4                   THEFT           $500 AND UNDER            RESIDENCE   \n",
       "\n",
       "   Arrest  Domestic  District  Ward  Community Area FBI Code   Latitude  \\\n",
       "0    True      True      10.0  24.0            29.0      08B  41.864073   \n",
       "1   False      True       3.0  20.0            42.0      08B  41.782922   \n",
       "2   False     False      15.0  37.0            25.0       24  41.894908   \n",
       "3   False     False      15.0  28.0            25.0      08B  41.885687   \n",
       "4   False      True      15.0  28.0            25.0        6  41.886297   \n",
       "\n",
       "   Longitude  \n",
       "0 -87.706819  \n",
       "1 -87.604363  \n",
       "2 -87.758372  \n",
       "3 -87.749516  \n",
       "4 -87.761751  "
      ]
     },
     "execution_count": 62,
     "metadata": {},
     "output_type": "execute_result"
    }
   ],
   "source": [
    "df.head()"
   ]
  },
  {
   "cell_type": "code",
   "execution_count": 10,
   "metadata": {},
   "outputs": [
    {
     "data": {
      "text/html": [
       "<div>\n",
       "<style scoped>\n",
       "    .dataframe tbody tr th:only-of-type {\n",
       "        vertical-align: middle;\n",
       "    }\n",
       "\n",
       "    .dataframe tbody tr th {\n",
       "        vertical-align: top;\n",
       "    }\n",
       "\n",
       "    .dataframe thead th {\n",
       "        text-align: right;\n",
       "    }\n",
       "</style>\n",
       "<table border=\"1\" class=\"dataframe\">\n",
       "  <thead>\n",
       "    <tr style=\"text-align: right;\">\n",
       "      <th></th>\n",
       "      <th>Primary Key</th>\n",
       "      <th>Case Number</th>\n",
       "      <th>Date</th>\n",
       "      <th>Block</th>\n",
       "      <th>IUCR</th>\n",
       "      <th>Crime_ID</th>\n",
       "      <th>Primary Type</th>\n",
       "      <th>Description</th>\n",
       "      <th>Location Description</th>\n",
       "      <th>Arrest</th>\n",
       "      <th>...</th>\n",
       "      <th>Ward</th>\n",
       "      <th>Community Area</th>\n",
       "      <th>FBI Code</th>\n",
       "      <th>X Coordinate</th>\n",
       "      <th>Y Coordinate</th>\n",
       "      <th>Year</th>\n",
       "      <th>Updated On</th>\n",
       "      <th>Latitude</th>\n",
       "      <th>Longitude</th>\n",
       "      <th>Location</th>\n",
       "    </tr>\n",
       "  </thead>\n",
       "  <tbody>\n",
       "    <tr>\n",
       "      <th>0</th>\n",
       "      <td>1</td>\n",
       "      <td>HZ250496</td>\n",
       "      <td>5/3/2016 23:40</td>\n",
       "      <td>013XX S SAWYER AVE</td>\n",
       "      <td>486</td>\n",
       "      <td>3</td>\n",
       "      <td>BATTERY</td>\n",
       "      <td>DOMESTIC BATTERY SIMPLE</td>\n",
       "      <td>APARTMENT</td>\n",
       "      <td>True</td>\n",
       "      <td>...</td>\n",
       "      <td>24.0</td>\n",
       "      <td>29.0</td>\n",
       "      <td>08B</td>\n",
       "      <td>1154907.0</td>\n",
       "      <td>1893681.0</td>\n",
       "      <td>2016</td>\n",
       "      <td>5/10/2016 15:56</td>\n",
       "      <td>41.864073</td>\n",
       "      <td>-87.706819</td>\n",
       "      <td>(41.864073157, -87.706818608)</td>\n",
       "    </tr>\n",
       "    <tr>\n",
       "      <th>1</th>\n",
       "      <td>2</td>\n",
       "      <td>HZ250409</td>\n",
       "      <td>5/3/2016 21:40</td>\n",
       "      <td>061XX S DREXEL AVE</td>\n",
       "      <td>486</td>\n",
       "      <td>3</td>\n",
       "      <td>BATTERY</td>\n",
       "      <td>DOMESTIC BATTERY SIMPLE</td>\n",
       "      <td>RESIDENCE</td>\n",
       "      <td>False</td>\n",
       "      <td>...</td>\n",
       "      <td>20.0</td>\n",
       "      <td>42.0</td>\n",
       "      <td>08B</td>\n",
       "      <td>1183066.0</td>\n",
       "      <td>1864330.0</td>\n",
       "      <td>2016</td>\n",
       "      <td>5/10/2016 15:56</td>\n",
       "      <td>41.782922</td>\n",
       "      <td>-87.604363</td>\n",
       "      <td>(41.782921527, -87.60436317)</td>\n",
       "    </tr>\n",
       "    <tr>\n",
       "      <th>2</th>\n",
       "      <td>3</td>\n",
       "      <td>HZ250503</td>\n",
       "      <td>5/3/2016 23:31</td>\n",
       "      <td>053XX W CHICAGO AVE</td>\n",
       "      <td>470</td>\n",
       "      <td>26</td>\n",
       "      <td>PUBLIC PEACE VIOLATION</td>\n",
       "      <td>RECKLESS CONDUCT</td>\n",
       "      <td>STREET</td>\n",
       "      <td>False</td>\n",
       "      <td>...</td>\n",
       "      <td>37.0</td>\n",
       "      <td>25.0</td>\n",
       "      <td>24</td>\n",
       "      <td>1140789.0</td>\n",
       "      <td>1904819.0</td>\n",
       "      <td>2016</td>\n",
       "      <td>5/10/2016 15:56</td>\n",
       "      <td>41.894908</td>\n",
       "      <td>-87.758372</td>\n",
       "      <td>(41.894908283, -87.758371958)</td>\n",
       "    </tr>\n",
       "    <tr>\n",
       "      <th>3</th>\n",
       "      <td>4</td>\n",
       "      <td>HZ250424</td>\n",
       "      <td>5/3/2016 22:10</td>\n",
       "      <td>049XX W FULTON ST</td>\n",
       "      <td>460</td>\n",
       "      <td>3</td>\n",
       "      <td>BATTERY</td>\n",
       "      <td>SIMPLE</td>\n",
       "      <td>SIDEWALK</td>\n",
       "      <td>False</td>\n",
       "      <td>...</td>\n",
       "      <td>28.0</td>\n",
       "      <td>25.0</td>\n",
       "      <td>08B</td>\n",
       "      <td>1143223.0</td>\n",
       "      <td>1901475.0</td>\n",
       "      <td>2016</td>\n",
       "      <td>5/10/2016 15:56</td>\n",
       "      <td>41.885687</td>\n",
       "      <td>-87.749516</td>\n",
       "      <td>(41.885686845, -87.749515983)</td>\n",
       "    </tr>\n",
       "    <tr>\n",
       "      <th>4</th>\n",
       "      <td>5</td>\n",
       "      <td>HZ250455</td>\n",
       "      <td>5/3/2016 22:00</td>\n",
       "      <td>003XX N LOTUS AVE</td>\n",
       "      <td>820</td>\n",
       "      <td>30</td>\n",
       "      <td>THEFT</td>\n",
       "      <td>$500 AND UNDER</td>\n",
       "      <td>RESIDENCE</td>\n",
       "      <td>False</td>\n",
       "      <td>...</td>\n",
       "      <td>28.0</td>\n",
       "      <td>25.0</td>\n",
       "      <td>6</td>\n",
       "      <td>1139890.0</td>\n",
       "      <td>1901675.0</td>\n",
       "      <td>2016</td>\n",
       "      <td>5/10/2016 15:56</td>\n",
       "      <td>41.886297</td>\n",
       "      <td>-87.761751</td>\n",
       "      <td>(41.886297242, -87.761750709)</td>\n",
       "    </tr>\n",
       "  </tbody>\n",
       "</table>\n",
       "<p>5 rows × 23 columns</p>\n",
       "</div>"
      ],
      "text/plain": [
       "   Primary Key Case Number            Date                Block IUCR Crime_ID  \\\n",
       "0            1    HZ250496  5/3/2016 23:40   013XX S SAWYER AVE  486        3   \n",
       "1            2    HZ250409  5/3/2016 21:40   061XX S DREXEL AVE  486        3   \n",
       "2            3    HZ250503  5/3/2016 23:31  053XX W CHICAGO AVE  470       26   \n",
       "3            4    HZ250424  5/3/2016 22:10    049XX W FULTON ST  460        3   \n",
       "4            5    HZ250455  5/3/2016 22:00    003XX N LOTUS AVE  820       30   \n",
       "\n",
       "             Primary Type              Description Location Description  \\\n",
       "0                 BATTERY  DOMESTIC BATTERY SIMPLE            APARTMENT   \n",
       "1                 BATTERY  DOMESTIC BATTERY SIMPLE            RESIDENCE   \n",
       "2  PUBLIC PEACE VIOLATION         RECKLESS CONDUCT               STREET   \n",
       "3                 BATTERY                   SIMPLE             SIDEWALK   \n",
       "4                   THEFT           $500 AND UNDER            RESIDENCE   \n",
       "\n",
       "   Arrest  ...  Ward  Community Area  FBI Code  X Coordinate  Y Coordinate  \\\n",
       "0    True  ...  24.0            29.0       08B     1154907.0     1893681.0   \n",
       "1   False  ...  20.0            42.0       08B     1183066.0     1864330.0   \n",
       "2   False  ...  37.0            25.0        24     1140789.0     1904819.0   \n",
       "3   False  ...  28.0            25.0       08B     1143223.0     1901475.0   \n",
       "4   False  ...  28.0            25.0         6     1139890.0     1901675.0   \n",
       "\n",
       "   Year       Updated On   Latitude  Longitude                       Location  \n",
       "0  2016  5/10/2016 15:56  41.864073 -87.706819  (41.864073157, -87.706818608)  \n",
       "1  2016  5/10/2016 15:56  41.782922 -87.604363   (41.782921527, -87.60436317)  \n",
       "2  2016  5/10/2016 15:56  41.894908 -87.758372  (41.894908283, -87.758371958)  \n",
       "3  2016  5/10/2016 15:56  41.885687 -87.749516  (41.885686845, -87.749515983)  \n",
       "4  2016  5/10/2016 15:56  41.886297 -87.761751  (41.886297242, -87.761750709)  \n",
       "\n",
       "[5 rows x 23 columns]"
      ]
     },
     "execution_count": 10,
     "metadata": {},
     "output_type": "execute_result"
    }
   ],
   "source": [
    "# df[\"Crime_ID\"]\n",
    "# remove the 'C' from the crime id\n",
    "df['Crime_ID'] = df['Crime_ID'].str.replace(\"C\", '')\n",
    "df.head()"
   ]
  },
  {
   "cell_type": "code",
   "execution_count": 72,
   "metadata": {},
   "outputs": [
    {
     "data": {
      "text/html": [
       "<div>\n",
       "<style scoped>\n",
       "    .dataframe tbody tr th:only-of-type {\n",
       "        vertical-align: middle;\n",
       "    }\n",
       "\n",
       "    .dataframe tbody tr th {\n",
       "        vertical-align: top;\n",
       "    }\n",
       "\n",
       "    .dataframe thead th {\n",
       "        text-align: right;\n",
       "    }\n",
       "</style>\n",
       "<table border=\"1\" class=\"dataframe\">\n",
       "  <thead>\n",
       "    <tr style=\"text-align: right;\">\n",
       "      <th></th>\n",
       "      <th>Primary Key</th>\n",
       "      <th>Case Number</th>\n",
       "      <th>Date</th>\n",
       "      <th>Block</th>\n",
       "      <th>IUCR</th>\n",
       "      <th>Crime_ID</th>\n",
       "      <th>Primary Type</th>\n",
       "      <th>Description</th>\n",
       "      <th>Location Description</th>\n",
       "      <th>Arrest</th>\n",
       "      <th>Domestic</th>\n",
       "      <th>District</th>\n",
       "      <th>Ward</th>\n",
       "      <th>Community Area</th>\n",
       "      <th>FBI Code</th>\n",
       "      <th>Latitude</th>\n",
       "      <th>Longitude</th>\n",
       "    </tr>\n",
       "  </thead>\n",
       "  <tbody>\n",
       "    <tr>\n",
       "      <th>0</th>\n",
       "      <td>1</td>\n",
       "      <td>HZ250496</td>\n",
       "      <td>2016-05-03</td>\n",
       "      <td>013XX S SAWYER AVE</td>\n",
       "      <td>486</td>\n",
       "      <td>3</td>\n",
       "      <td>BATTERY</td>\n",
       "      <td>DOMESTIC BATTERY SIMPLE</td>\n",
       "      <td>APARTMENT</td>\n",
       "      <td>True</td>\n",
       "      <td>True</td>\n",
       "      <td>10.0</td>\n",
       "      <td>24.0</td>\n",
       "      <td>29.0</td>\n",
       "      <td>08B</td>\n",
       "      <td>41.864073</td>\n",
       "      <td>-87.706819</td>\n",
       "    </tr>\n",
       "    <tr>\n",
       "      <th>1</th>\n",
       "      <td>2</td>\n",
       "      <td>HZ250409</td>\n",
       "      <td>2016-05-03</td>\n",
       "      <td>061XX S DREXEL AVE</td>\n",
       "      <td>486</td>\n",
       "      <td>3</td>\n",
       "      <td>BATTERY</td>\n",
       "      <td>DOMESTIC BATTERY SIMPLE</td>\n",
       "      <td>RESIDENCE</td>\n",
       "      <td>False</td>\n",
       "      <td>True</td>\n",
       "      <td>3.0</td>\n",
       "      <td>20.0</td>\n",
       "      <td>42.0</td>\n",
       "      <td>08B</td>\n",
       "      <td>41.782922</td>\n",
       "      <td>-87.604363</td>\n",
       "    </tr>\n",
       "    <tr>\n",
       "      <th>2</th>\n",
       "      <td>3</td>\n",
       "      <td>HZ250503</td>\n",
       "      <td>2016-05-03</td>\n",
       "      <td>053XX W CHICAGO AVE</td>\n",
       "      <td>470</td>\n",
       "      <td>26</td>\n",
       "      <td>PUBLIC PEACE VIOLATION</td>\n",
       "      <td>RECKLESS CONDUCT</td>\n",
       "      <td>STREET</td>\n",
       "      <td>False</td>\n",
       "      <td>False</td>\n",
       "      <td>15.0</td>\n",
       "      <td>37.0</td>\n",
       "      <td>25.0</td>\n",
       "      <td>24</td>\n",
       "      <td>41.894908</td>\n",
       "      <td>-87.758372</td>\n",
       "    </tr>\n",
       "    <tr>\n",
       "      <th>3</th>\n",
       "      <td>4</td>\n",
       "      <td>HZ250424</td>\n",
       "      <td>2016-05-03</td>\n",
       "      <td>049XX W FULTON ST</td>\n",
       "      <td>460</td>\n",
       "      <td>3</td>\n",
       "      <td>BATTERY</td>\n",
       "      <td>SIMPLE</td>\n",
       "      <td>SIDEWALK</td>\n",
       "      <td>False</td>\n",
       "      <td>False</td>\n",
       "      <td>15.0</td>\n",
       "      <td>28.0</td>\n",
       "      <td>25.0</td>\n",
       "      <td>08B</td>\n",
       "      <td>41.885687</td>\n",
       "      <td>-87.749516</td>\n",
       "    </tr>\n",
       "    <tr>\n",
       "      <th>4</th>\n",
       "      <td>5</td>\n",
       "      <td>HZ250455</td>\n",
       "      <td>2016-05-03</td>\n",
       "      <td>003XX N LOTUS AVE</td>\n",
       "      <td>820</td>\n",
       "      <td>30</td>\n",
       "      <td>THEFT</td>\n",
       "      <td>$500 AND UNDER</td>\n",
       "      <td>RESIDENCE</td>\n",
       "      <td>False</td>\n",
       "      <td>True</td>\n",
       "      <td>15.0</td>\n",
       "      <td>28.0</td>\n",
       "      <td>25.0</td>\n",
       "      <td>6</td>\n",
       "      <td>41.886297</td>\n",
       "      <td>-87.761751</td>\n",
       "    </tr>\n",
       "  </tbody>\n",
       "</table>\n",
       "</div>"
      ],
      "text/plain": [
       "   Primary Key Case Number       Date                Block IUCR Crime_ID  \\\n",
       "0            1    HZ250496 2016-05-03   013XX S SAWYER AVE  486        3   \n",
       "1            2    HZ250409 2016-05-03   061XX S DREXEL AVE  486        3   \n",
       "2            3    HZ250503 2016-05-03  053XX W CHICAGO AVE  470       26   \n",
       "3            4    HZ250424 2016-05-03    049XX W FULTON ST  460        3   \n",
       "4            5    HZ250455 2016-05-03    003XX N LOTUS AVE  820       30   \n",
       "\n",
       "             Primary Type              Description Location Description  \\\n",
       "0                 BATTERY  DOMESTIC BATTERY SIMPLE            APARTMENT   \n",
       "1                 BATTERY  DOMESTIC BATTERY SIMPLE            RESIDENCE   \n",
       "2  PUBLIC PEACE VIOLATION         RECKLESS CONDUCT               STREET   \n",
       "3                 BATTERY                   SIMPLE             SIDEWALK   \n",
       "4                   THEFT           $500 AND UNDER            RESIDENCE   \n",
       "\n",
       "   Arrest  Domestic  District  Ward  Community Area FBI Code   Latitude  \\\n",
       "0    True      True      10.0  24.0            29.0      08B  41.864073   \n",
       "1   False      True       3.0  20.0            42.0      08B  41.782922   \n",
       "2   False     False      15.0  37.0            25.0       24  41.894908   \n",
       "3   False     False      15.0  28.0            25.0      08B  41.885687   \n",
       "4   False      True      15.0  28.0            25.0        6  41.886297   \n",
       "\n",
       "   Longitude  \n",
       "0 -87.706819  \n",
       "1 -87.604363  \n",
       "2 -87.758372  \n",
       "3 -87.749516  \n",
       "4 -87.761751  "
      ]
     },
     "execution_count": 72,
     "metadata": {},
     "output_type": "execute_result"
    }
   ],
   "source": [
    "from datetime import datetime,date\n",
    "df[\"Date\"]=pd.to_datetime(df['Date']).dt.normalize()\n",
    "df.head()"
   ]
  },
  {
   "cell_type": "code",
   "execution_count": 73,
   "metadata": {},
   "outputs": [],
   "source": [
    "df.to_csv('example.csv',index=False,header=True)"
   ]
  },
  {
   "cell_type": "code",
   "execution_count": null,
   "metadata": {},
   "outputs": [],
   "source": []
  }
 ],
 "metadata": {
  "kernelspec": {
   "display_name": "Python 3",
   "language": "python",
   "name": "python3"
  },
  "language_info": {
   "codemirror_mode": {
    "name": "ipython",
    "version": 3
   },
   "file_extension": ".py",
   "mimetype": "text/x-python",
   "name": "python",
   "nbconvert_exporter": "python",
   "pygments_lexer": "ipython3",
   "version": "3.8.6"
  }
 },
 "nbformat": 4,
 "nbformat_minor": 4
}
